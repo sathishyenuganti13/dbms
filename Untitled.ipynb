{
 "cells": [
  {
   "cell_type": "code",
   "execution_count": 43,
   "id": "8f04338e",
   "metadata": {},
   "outputs": [
    {
     "name": "stdout",
     "output_type": "stream",
     "text": [
      " enter no of documents 4\n",
      "enter document 0:  breakthrough drug for schizophrenia\n",
      "enter document 1:  new schizophrenia drug\n",
      "enter document 2: new approach for treatment of schizophrenia\n",
      "enter document 3:  new hopes for schizophrenia patients\n",
      "['approach', 'breakthrough', 'drug', 'drug', 'for', 'for', 'for', 'hopes', 'new', 'new', 'new', 'of', 'patients', 'schizophrenia', 'schizophrenia', 'schizophrenia', 'schizophrenia', 'treatment']\n",
      "enter the query : drug new\n",
      "['drug', 'new']\n",
      "drug\n",
      "new\n",
      "res :  [[0, 1], [1, 2, 3], array([1, 1, 0, 0]), array([0, 1, 1, 1]), array([1, 1, 0, 0]), array([0, 1, 1, 1]), array([1, 1, 0, 0]), array([0, 1, 1, 1]), array([1, 1, 0, 0]), array([0, 1, 1, 1])]\n",
      " enter operation : and\n",
      "[0 1 1 1]\n"
     ]
    },
    {
     "data": {
      "text/plain": [
       "array([0, 1, 1, 1])"
      ]
     },
     "execution_count": 43,
     "metadata": {},
     "output_type": "execute_result"
    }
   ],
   "source": [
    "import numpy as np\n",
    "\n",
    "def find(q,di):\n",
    "    for i in q:\n",
    "        print(i)\n",
    "        res.append(di[i])\n",
    "    print(\"res : \",res)\n",
    "    op = input(\" enter operation : \")\n",
    "    for i in range(len(res)):\n",
    "        if op == 'and':\n",
    "            val = [ 1 for i in range(len(res)) ]\n",
    "            val = val and res[i]\n",
    "        elif op == 'or':\n",
    "            val = [ 0 for i in range(len(res)) ]\n",
    "            val = val or res[i]\n",
    "    print(val)\n",
    "    return val\n",
    "   \n",
    "    \n",
    "def knot(a):\n",
    "    res = np.zeros([a.shape()])\n",
    "    for i in range(len(res)):\n",
    "        if(a[i]):\n",
    "            res[i]=1\n",
    "    return res\n",
    "    \n",
    "        \n",
    "        \n",
    "n = int(input(\" enter no of documents \"))  \n",
    "var = []\n",
    "dict1 = []\n",
    "\n",
    "'''\n",
    "a = \" breakthrough drug for schizophrenia \"\n",
    "b = \" new schizophrenia drug \"\n",
    "c = \" new approach for treatment of schizophrenia\"\n",
    "d = \" new hopes for schizophrenia patients\" \n",
    "'''\n",
    "\n",
    "for i in range(n):\n",
    "    d = input(f\"enter document {i}: \")\n",
    "    var.append(d)\n",
    "    d = [i for i in d.strip().split()]\n",
    "    dict1+=d\n",
    "\n",
    "\n",
    "\n",
    "\n",
    "dict1.sort()\n",
    "\n",
    "print(dict1)\n",
    "\n",
    "post = np.zeros([len(dict1),len(var)],dtype=int)\n",
    "\n",
    "for i in range(len(dict1)):\n",
    "    for j in range(len(var)):\n",
    "        if dict1[i] in var[j]:\n",
    "            post[i][j] = 1\n",
    "\n",
    "\n",
    "di = {}\n",
    "\n",
    "for i in range(len(dict1)):\n",
    "    di[dict1[i]] = post[i]\n",
    "    \n",
    "    \n",
    "#print(post)\n",
    "\n",
    "query = [ i for i in input(\"enter the query : \").strip().split()]\n",
    "\n",
    "print(query)\n",
    "\n",
    "find(query,di)\n",
    "\n",
    "    "
   ]
  },
  {
   "cell_type": "code",
   "execution_count": 38,
   "id": "7a2e7afd",
   "metadata": {},
   "outputs": [
    {
     "name": "stdout",
     "output_type": "stream",
     "text": [
      "{'approach': array([0, 0, 1, 0]), 'breakthrough': array([1, 0, 0, 0]), 'drug': array([1, 1, 0, 0]), 'for': array([1, 0, 1, 1]), 'hopes': array([0, 0, 0, 1]), 'new': array([0, 1, 1, 1]), 'of': array([0, 0, 1, 0]), 'patients': array([0, 0, 0, 1]), 'schizophrenia': array([1, 1, 1, 1]), 'treatment': array([0, 0, 1, 0])}\n"
     ]
    }
   ],
   "source": [
    "print(di)"
   ]
  },
  {
   "cell_type": "code",
   "execution_count": null,
   "id": "6fbb11ca",
   "metadata": {},
   "outputs": [],
   "source": [
    "'''val =[1,1,1,1]\n",
    "\n",
    "for i in range(len(res)):\n",
    "    for j in range(len(res[i])):\n",
    "        val = val and post[i][j]\n",
    "print(val)\n",
    "\n",
    "for i in val:\n",
    "    print(var[i]) '''\n",
    "\n",
    "'''def search(q,post,dt,var):\n",
    "    temp = q\n",
    "    res = []\n",
    "    for i in temp:\n",
    "        if i in dt:\n",
    "            r = dt.index(i)\n",
    "            t = []\n",
    "            for j in range(len(var)):\n",
    "                if post[r][j] == 1:\n",
    "                    t.append(j)\n",
    "            res.append(t)\n",
    "            print('iteration completed')\n",
    "    print(res)\n",
    "    return res '''\n",
    "\n",
    "\n",
    "def search(q,post,dt,var):\n",
    "    res = []\n",
    "    for i in q:\n",
    "        if i in dt:\n",
    "            r = dt.index(i)\n",
    "            res.append(post[r])\n",
    "            print(res)\n",
    "    op = input(\" enter operation : \")\n",
    "    for i in range(len(res)):\n",
    "        if op == 'and':\n",
    "            val = [ 1 for i in range(len(var)) ]\n",
    "            val = val and var[i]\n",
    "        elif op =='or':\n",
    "            val = [ 0 for i in range(len(var)) ]\n",
    "            val = val or var[i]\n",
    "\n",
    "        elif op =='not':\n",
    "            val = val not var[i]\n",
    "    print(val) \n",
    "    \n"
   ]
  }
 ],
 "metadata": {
  "kernelspec": {
   "display_name": "Python 3 (ipykernel)",
   "language": "python",
   "name": "python3"
  },
  "language_info": {
   "codemirror_mode": {
    "name": "ipython",
    "version": 3
   },
   "file_extension": ".py",
   "mimetype": "text/x-python",
   "name": "python",
   "nbconvert_exporter": "python",
   "pygments_lexer": "ipython3",
   "version": "3.11.3"
  }
 },
 "nbformat": 4,
 "nbformat_minor": 5
}
